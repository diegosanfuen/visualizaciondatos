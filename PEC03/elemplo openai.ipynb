{
 "cells": [
  {
   "cell_type": "code",
   "execution_count": 4,
   "id": "39325d27",
   "metadata": {},
   "outputs": [
    {
     "name": "stdout",
     "output_type": "stream",
     "text": [
      "Defaulting to user installation because normal site-packages is not writeable\n",
      "Requirement already satisfied: branca in c:\\users\\yeyos\\appdata\\roaming\\python\\python311\\site-packages (0.7.0)\n",
      "Requirement already satisfied: jinja2 in c:\\programdata\\anaconda3\\lib\\site-packages (from branca) (3.1.2)\n",
      "Requirement already satisfied: MarkupSafe>=2.0 in c:\\users\\yeyos\\appdata\\roaming\\python\\python311\\site-packages (from jinja2->branca) (2.1.3)\n"
     ]
    }
   ],
   "source": [
    "!pip install branca"
   ]
  },
  {
   "cell_type": "code",
   "execution_count": 9,
   "id": "5b40778a",
   "metadata": {},
   "outputs": [
    {
     "ename": "AssertionError",
     "evalue": "init_timestamp must be in the range [-0, 0) but got 0",
     "output_type": "error",
     "traceback": [
      "\u001b[1;31m---------------------------------------------------------------------------\u001b[0m",
      "\u001b[1;31mAssertionError\u001b[0m                            Traceback (most recent call last)",
      "Cell \u001b[1;32mIn[9], line 20\u001b[0m\n\u001b[0;32m     17\u001b[0m m \u001b[38;5;241m=\u001b[39m folium\u001b[38;5;241m.\u001b[39mMap(location\u001b[38;5;241m=\u001b[39m[\u001b[38;5;241m30\u001b[39m, \u001b[38;5;241m0\u001b[39m], zoom_start\u001b[38;5;241m=\u001b[39m\u001b[38;5;241m2\u001b[39m)\n\u001b[0;32m     19\u001b[0m \u001b[38;5;66;03m# Crear un control deslizante de tiempo\u001b[39;00m\n\u001b[1;32m---> 20\u001b[0m time_slider \u001b[38;5;241m=\u001b[39m TimeSliderChoropleth(    \n\u001b[0;32m     21\u001b[0m     gdf\u001b[38;5;241m.\u001b[39mto_json(),\n\u001b[0;32m     22\u001b[0m     styledict\u001b[38;5;241m=\u001b[39m{},\n\u001b[0;32m     23\u001b[0m     name\u001b[38;5;241m=\u001b[39m\u001b[38;5;124m'\u001b[39m\u001b[38;5;124mTime Slider\u001b[39m\u001b[38;5;124m'\u001b[39m,\n\u001b[0;32m     24\u001b[0m     init_timestamp\u001b[38;5;241m=\u001b[39m\u001b[38;5;241m0\u001b[39m,\n\u001b[0;32m     25\u001b[0m )\u001b[38;5;241m.\u001b[39madd_to(m)\n\u001b[0;32m     27\u001b[0m \u001b[38;5;66;03m# Añadir datos temporales al control deslizante\u001b[39;00m\n\u001b[0;32m     28\u001b[0m \u001b[38;5;28;01mfor\u001b[39;00m date, values \u001b[38;5;129;01min\u001b[39;00m \u001b[38;5;28mzip\u001b[39m(data[\u001b[38;5;124m'\u001b[39m\u001b[38;5;124mdate\u001b[39m\u001b[38;5;124m'\u001b[39m]\u001b[38;5;241m.\u001b[39munique(), data\u001b[38;5;241m.\u001b[39mgroupby(\u001b[38;5;124m'\u001b[39m\u001b[38;5;124mdate\u001b[39m\u001b[38;5;124m'\u001b[39m)\u001b[38;5;241m.\u001b[39mmean()\u001b[38;5;241m.\u001b[39miterrows()):\n",
      "File \u001b[1;32m~\\AppData\\Roaming\\Python\\Python311\\site-packages\\folium\\plugins\\time_slider_choropleth.py:204\u001b[0m, in \u001b[0;36mTimeSliderChoropleth.__init__\u001b[1;34m(self, data, styledict, highlight, name, overlay, control, show, init_timestamp, stroke_opacity, stroke_width, stroke_color)\u001b[0m\n\u001b[0;32m    201\u001b[0m \u001b[38;5;28mself\u001b[39m\u001b[38;5;241m.\u001b[39mtimestamps \u001b[38;5;241m=\u001b[39m timestamps\n\u001b[0;32m    202\u001b[0m \u001b[38;5;28mself\u001b[39m\u001b[38;5;241m.\u001b[39mstyledict \u001b[38;5;241m=\u001b[39m styledict\n\u001b[0;32m    203\u001b[0m \u001b[38;5;28;01massert\u001b[39;00m (\n\u001b[1;32m--> 204\u001b[0m     \u001b[38;5;241m-\u001b[39m\u001b[38;5;28mlen\u001b[39m(timestamps) \u001b[38;5;241m<\u001b[39m\u001b[38;5;241m=\u001b[39m init_timestamp \u001b[38;5;241m<\u001b[39m \u001b[38;5;28mlen\u001b[39m(timestamps)\n\u001b[0;32m    205\u001b[0m ), \u001b[38;5;124mf\u001b[39m\u001b[38;5;124m\"\u001b[39m\u001b[38;5;124minit_timestamp must be in the range [-\u001b[39m\u001b[38;5;132;01m{\u001b[39;00m\u001b[38;5;28mlen\u001b[39m(timestamps)\u001b[38;5;132;01m}\u001b[39;00m\u001b[38;5;124m, \u001b[39m\u001b[38;5;132;01m{\u001b[39;00m\u001b[38;5;28mlen\u001b[39m(timestamps)\u001b[38;5;132;01m}\u001b[39;00m\u001b[38;5;124m) but got \u001b[39m\u001b[38;5;132;01m{\u001b[39;00minit_timestamp\u001b[38;5;132;01m}\u001b[39;00m\u001b[38;5;124m\"\u001b[39m\n\u001b[0;32m    206\u001b[0m \u001b[38;5;28;01mif\u001b[39;00m init_timestamp \u001b[38;5;241m<\u001b[39m \u001b[38;5;241m0\u001b[39m:\n\u001b[0;32m    207\u001b[0m     init_timestamp \u001b[38;5;241m=\u001b[39m \u001b[38;5;28mlen\u001b[39m(timestamps) \u001b[38;5;241m+\u001b[39m init_timestamp\n",
      "\u001b[1;31mAssertionError\u001b[0m: init_timestamp must be in the range [-0, 0) but got 0"
     ]
    }
   ],
   "source": [
    "import folium\n",
    "import geopandas as gpd\n",
    "from branca.colormap import linear\n",
    "from datetime import datetime\n",
    "from folium.plugins import TimeSliderChoropleth\n",
    "\n",
    "# Cargar el archivo de datos geoespaciales (GeoJSON) para los países\n",
    "world_geojson_path = 'datos/ne_110m_admin_0_countries.json'\n",
    "gdf = gpd.read_file(world_geojson_path)\n",
    "\n",
    "# Cargar los datos temporales\n",
    "# Supongamos que tienes un GeoDataFrame con la información temporal llamado 'data'\n",
    "# Asegúrate de tener una columna 'date' que contenga las fechas y otras columnas con los indicadores\n",
    "# data = gpd.read_file('path/to/data.geojson')\n",
    "\n",
    "# Crear un mapa base\n",
    "m = folium.Map(location=[30, 0], zoom_start=2)\n",
    "\n",
    "# Crear un control deslizante de tiempo\n",
    "time_slider = TimeSliderChoropleth(    \n",
    "    gdf.to_json(),\n",
    "    styledict={},\n",
    "    name='Time Slider',\n",
    "    init_timestamp=0,\n",
    ").add_to(m)\n",
    "\n",
    "# Añadir datos temporales al control deslizante\n",
    "for date, values in zip(data['date'].unique(), data.groupby('date').mean().iterrows()):\n",
    "    date_str = date.strftime('%Y-%m-%d')\n",
    "    values = values[1]\n",
    "    \n",
    "    # Crear un estilo para el indicador específico\n",
    "    style_data = {\n",
    "        'weight': 1,\n",
    "        'color': 'black',\n",
    "        'fillColor': 'YlGnBu',\n",
    "        'fillOpacity': 0.7,\n",
    "        'line_opacity': 0.2\n",
    "    }\n",
    "    \n",
    "    # Agregar el estilo al control deslizante\n",
    "    time_slider.add_to(map, date_str, values, geojson_out='data.geojson', style_function=lambda x: style_data)\n",
    "\n",
    "# Añadir capa de control de estilo\n",
    "folium.LayerControl().add_to(m)\n",
    "\n",
    "# Guardar el mapa como un archivo HTML\n",
    "m.save('time_slider_map.html')"
   ]
  },
  {
   "cell_type": "code",
   "execution_count": 3,
   "id": "69a3adc2",
   "metadata": {},
   "outputs": [
    {
     "name": "stdout",
     "output_type": "stream",
     "text": [
      "0.15.1\n"
     ]
    }
   ],
   "source": [
    "print(folium.__version__)"
   ]
  },
  {
   "cell_type": "code",
   "execution_count": 27,
   "id": "58cbc95d",
   "metadata": {},
   "outputs": [
    {
     "ename": "GEOSException",
     "evalue": "TopologyException: unable to assign free hole to a shell at -4.1706809997558594 40.5755615234375",
     "output_type": "error",
     "traceback": [
      "\u001b[1;31m---------------------------------------------------------------------------\u001b[0m",
      "\u001b[1;31mGEOSException\u001b[0m                             Traceback (most recent call last)",
      "Cell \u001b[1;32mIn[27], line 26\u001b[0m\n\u001b[0;32m     24\u001b[0m df_house_sold \u001b[38;5;241m=\u001b[39m geo_df\u001b[38;5;241m.\u001b[39mmerge(df_house_sold, on\u001b[38;5;241m=\u001b[39m\u001b[38;5;124m'\u001b[39m\u001b[38;5;124mNAME_2\u001b[39m\u001b[38;5;124m'\u001b[39m)\n\u001b[0;32m     25\u001b[0m \u001b[38;5;66;03m# df_house_sold = df_house_sold.dissolve(by=['NAME_2', 'year_mnth'], aggfunc='sum').reset_index()\u001b[39;00m\n\u001b[1;32m---> 26\u001b[0m df_house_sold \u001b[38;5;241m=\u001b[39m df_house_sold\u001b[38;5;241m.\u001b[39mdissolve(by\u001b[38;5;241m=\u001b[39m[\u001b[38;5;124m'\u001b[39m\u001b[38;5;124mNAME_2\u001b[39m\u001b[38;5;124m'\u001b[39m], as_index\u001b[38;5;241m=\u001b[39m\u001b[38;5;28;01mFalse\u001b[39;00m)\n\u001b[0;32m     27\u001b[0m df_house_sold[\u001b[38;5;124m'\u001b[39m\u001b[38;5;124mdatemodified\u001b[39m\u001b[38;5;124m'\u001b[39m] \u001b[38;5;241m=\u001b[39m pd\u001b[38;5;241m.\u001b[39mto_datetime(df_house_sold[\u001b[38;5;124m'\u001b[39m\u001b[38;5;124myear_mnth\u001b[39m\u001b[38;5;124m'\u001b[39m])\n\u001b[0;32m     29\u001b[0m \u001b[38;5;66;03m#Creating Time Index for slider\u001b[39;00m\n",
      "File \u001b[1;32m~\\AppData\\Roaming\\Python\\Python311\\site-packages\\geopandas\\geodataframe.py:1818\u001b[0m, in \u001b[0;36mGeoDataFrame.dissolve\u001b[1;34m(self, by, aggfunc, as_index, level, sort, observed, dropna, **kwargs)\u001b[0m\n\u001b[0;32m   1815\u001b[0m     merged_geom \u001b[38;5;241m=\u001b[39m block\u001b[38;5;241m.\u001b[39munary_union\n\u001b[0;32m   1816\u001b[0m     \u001b[38;5;28;01mreturn\u001b[39;00m merged_geom\n\u001b[1;32m-> 1818\u001b[0m g \u001b[38;5;241m=\u001b[39m \u001b[38;5;28mself\u001b[39m\u001b[38;5;241m.\u001b[39mgroupby(group_keys\u001b[38;5;241m=\u001b[39m\u001b[38;5;28;01mFalse\u001b[39;00m, \u001b[38;5;241m*\u001b[39m\u001b[38;5;241m*\u001b[39mgroupby_kwargs)[\u001b[38;5;28mself\u001b[39m\u001b[38;5;241m.\u001b[39mgeometry\u001b[38;5;241m.\u001b[39mname]\u001b[38;5;241m.\u001b[39magg(\n\u001b[0;32m   1819\u001b[0m     merge_geometries\n\u001b[0;32m   1820\u001b[0m )\n\u001b[0;32m   1822\u001b[0m \u001b[38;5;66;03m# Aggregate\u001b[39;00m\n\u001b[0;32m   1823\u001b[0m aggregated_geometry \u001b[38;5;241m=\u001b[39m GeoDataFrame(g, geometry\u001b[38;5;241m=\u001b[39m\u001b[38;5;28mself\u001b[39m\u001b[38;5;241m.\u001b[39mgeometry\u001b[38;5;241m.\u001b[39mname, crs\u001b[38;5;241m=\u001b[39m\u001b[38;5;28mself\u001b[39m\u001b[38;5;241m.\u001b[39mcrs)\n",
      "File \u001b[1;32mC:\\ProgramData\\Anaconda3\\Lib\\site-packages\\pandas\\core\\groupby\\generic.py:269\u001b[0m, in \u001b[0;36mSeriesGroupBy.aggregate\u001b[1;34m(self, func, engine, engine_kwargs, *args, **kwargs)\u001b[0m\n\u001b[0;32m    266\u001b[0m     \u001b[38;5;28;01mreturn\u001b[39;00m \u001b[38;5;28mself\u001b[39m\u001b[38;5;241m.\u001b[39m_python_agg_general(func, \u001b[38;5;241m*\u001b[39margs, \u001b[38;5;241m*\u001b[39m\u001b[38;5;241m*\u001b[39mkwargs)\n\u001b[0;32m    268\u001b[0m \u001b[38;5;28;01mtry\u001b[39;00m:\n\u001b[1;32m--> 269\u001b[0m     \u001b[38;5;28;01mreturn\u001b[39;00m \u001b[38;5;28mself\u001b[39m\u001b[38;5;241m.\u001b[39m_python_agg_general(func, \u001b[38;5;241m*\u001b[39margs, \u001b[38;5;241m*\u001b[39m\u001b[38;5;241m*\u001b[39mkwargs)\n\u001b[0;32m    270\u001b[0m \u001b[38;5;28;01mexcept\u001b[39;00m \u001b[38;5;167;01mKeyError\u001b[39;00m:\n\u001b[0;32m    271\u001b[0m     \u001b[38;5;66;03m# KeyError raised in test_groupby.test_basic is bc the func does\u001b[39;00m\n\u001b[0;32m    272\u001b[0m     \u001b[38;5;66;03m#  a dictionary lookup on group.name, but group name is not\u001b[39;00m\n\u001b[0;32m    273\u001b[0m     \u001b[38;5;66;03m#  pinned in _python_agg_general, only in _aggregate_named\u001b[39;00m\n\u001b[0;32m    274\u001b[0m     result \u001b[38;5;241m=\u001b[39m \u001b[38;5;28mself\u001b[39m\u001b[38;5;241m.\u001b[39m_aggregate_named(func, \u001b[38;5;241m*\u001b[39margs, \u001b[38;5;241m*\u001b[39m\u001b[38;5;241m*\u001b[39mkwargs)\n",
      "File \u001b[1;32mC:\\ProgramData\\Anaconda3\\Lib\\site-packages\\pandas\\core\\groupby\\generic.py:288\u001b[0m, in \u001b[0;36mSeriesGroupBy._python_agg_general\u001b[1;34m(self, func, *args, **kwargs)\u001b[0m\n\u001b[0;32m    285\u001b[0m f \u001b[38;5;241m=\u001b[39m \u001b[38;5;28;01mlambda\u001b[39;00m x: func(x, \u001b[38;5;241m*\u001b[39margs, \u001b[38;5;241m*\u001b[39m\u001b[38;5;241m*\u001b[39mkwargs)\n\u001b[0;32m    287\u001b[0m obj \u001b[38;5;241m=\u001b[39m \u001b[38;5;28mself\u001b[39m\u001b[38;5;241m.\u001b[39m_obj_with_exclusions\n\u001b[1;32m--> 288\u001b[0m result \u001b[38;5;241m=\u001b[39m \u001b[38;5;28mself\u001b[39m\u001b[38;5;241m.\u001b[39mgrouper\u001b[38;5;241m.\u001b[39magg_series(obj, f)\n\u001b[0;32m    289\u001b[0m res \u001b[38;5;241m=\u001b[39m obj\u001b[38;5;241m.\u001b[39m_constructor(result, name\u001b[38;5;241m=\u001b[39mobj\u001b[38;5;241m.\u001b[39mname)\n\u001b[0;32m    290\u001b[0m \u001b[38;5;28;01mreturn\u001b[39;00m \u001b[38;5;28mself\u001b[39m\u001b[38;5;241m.\u001b[39m_wrap_aggregated_output(res)\n",
      "File \u001b[1;32mC:\\ProgramData\\Anaconda3\\Lib\\site-packages\\pandas\\core\\groupby\\ops.py:994\u001b[0m, in \u001b[0;36mBaseGrouper.agg_series\u001b[1;34m(self, obj, func, preserve_dtype)\u001b[0m\n\u001b[0;32m    987\u001b[0m \u001b[38;5;28;01mif\u001b[39;00m \u001b[38;5;28mlen\u001b[39m(obj) \u001b[38;5;241m>\u001b[39m \u001b[38;5;241m0\u001b[39m \u001b[38;5;129;01mand\u001b[39;00m \u001b[38;5;129;01mnot\u001b[39;00m \u001b[38;5;28misinstance\u001b[39m(obj\u001b[38;5;241m.\u001b[39m_values, np\u001b[38;5;241m.\u001b[39mndarray):\n\u001b[0;32m    988\u001b[0m     \u001b[38;5;66;03m# we can preserve a little bit more aggressively with EA dtype\u001b[39;00m\n\u001b[0;32m    989\u001b[0m     \u001b[38;5;66;03m#  because maybe_cast_pointwise_result will do a try/except\u001b[39;00m\n\u001b[0;32m    990\u001b[0m     \u001b[38;5;66;03m#  with _from_sequence.  NB we are assuming here that _from_sequence\u001b[39;00m\n\u001b[0;32m    991\u001b[0m     \u001b[38;5;66;03m#  is sufficiently strict that it casts appropriately.\u001b[39;00m\n\u001b[0;32m    992\u001b[0m     preserve_dtype \u001b[38;5;241m=\u001b[39m \u001b[38;5;28;01mTrue\u001b[39;00m\n\u001b[1;32m--> 994\u001b[0m result \u001b[38;5;241m=\u001b[39m \u001b[38;5;28mself\u001b[39m\u001b[38;5;241m.\u001b[39m_aggregate_series_pure_python(obj, func)\n\u001b[0;32m    996\u001b[0m npvalues \u001b[38;5;241m=\u001b[39m lib\u001b[38;5;241m.\u001b[39mmaybe_convert_objects(result, try_float\u001b[38;5;241m=\u001b[39m\u001b[38;5;28;01mFalse\u001b[39;00m)\n\u001b[0;32m    997\u001b[0m \u001b[38;5;28;01mif\u001b[39;00m preserve_dtype:\n",
      "File \u001b[1;32mC:\\ProgramData\\Anaconda3\\Lib\\site-packages\\pandas\\core\\groupby\\ops.py:1015\u001b[0m, in \u001b[0;36mBaseGrouper._aggregate_series_pure_python\u001b[1;34m(self, obj, func)\u001b[0m\n\u001b[0;32m   1012\u001b[0m splitter \u001b[38;5;241m=\u001b[39m \u001b[38;5;28mself\u001b[39m\u001b[38;5;241m.\u001b[39m_get_splitter(obj, axis\u001b[38;5;241m=\u001b[39m\u001b[38;5;241m0\u001b[39m)\n\u001b[0;32m   1014\u001b[0m \u001b[38;5;28;01mfor\u001b[39;00m i, group \u001b[38;5;129;01min\u001b[39;00m \u001b[38;5;28menumerate\u001b[39m(splitter):\n\u001b[1;32m-> 1015\u001b[0m     res \u001b[38;5;241m=\u001b[39m func(group)\n\u001b[0;32m   1016\u001b[0m     res \u001b[38;5;241m=\u001b[39m libreduction\u001b[38;5;241m.\u001b[39mextract_result(res)\n\u001b[0;32m   1018\u001b[0m     \u001b[38;5;28;01mif\u001b[39;00m \u001b[38;5;129;01mnot\u001b[39;00m initialized:\n\u001b[0;32m   1019\u001b[0m         \u001b[38;5;66;03m# We only do this validation on the first iteration\u001b[39;00m\n",
      "File \u001b[1;32mC:\\ProgramData\\Anaconda3\\Lib\\site-packages\\pandas\\core\\groupby\\generic.py:285\u001b[0m, in \u001b[0;36mSeriesGroupBy._python_agg_general.<locals>.<lambda>\u001b[1;34m(x)\u001b[0m\n\u001b[0;32m    283\u001b[0m \u001b[38;5;28;01mdef\u001b[39;00m \u001b[38;5;21m_python_agg_general\u001b[39m(\u001b[38;5;28mself\u001b[39m, func, \u001b[38;5;241m*\u001b[39margs, \u001b[38;5;241m*\u001b[39m\u001b[38;5;241m*\u001b[39mkwargs):\n\u001b[0;32m    284\u001b[0m     func \u001b[38;5;241m=\u001b[39m com\u001b[38;5;241m.\u001b[39mis_builtin_func(func)\n\u001b[1;32m--> 285\u001b[0m     f \u001b[38;5;241m=\u001b[39m \u001b[38;5;28;01mlambda\u001b[39;00m x: func(x, \u001b[38;5;241m*\u001b[39margs, \u001b[38;5;241m*\u001b[39m\u001b[38;5;241m*\u001b[39mkwargs)\n\u001b[0;32m    287\u001b[0m     obj \u001b[38;5;241m=\u001b[39m \u001b[38;5;28mself\u001b[39m\u001b[38;5;241m.\u001b[39m_obj_with_exclusions\n\u001b[0;32m    288\u001b[0m     result \u001b[38;5;241m=\u001b[39m \u001b[38;5;28mself\u001b[39m\u001b[38;5;241m.\u001b[39mgrouper\u001b[38;5;241m.\u001b[39magg_series(obj, f)\n",
      "File \u001b[1;32m~\\AppData\\Roaming\\Python\\Python311\\site-packages\\geopandas\\geodataframe.py:1815\u001b[0m, in \u001b[0;36mGeoDataFrame.dissolve.<locals>.merge_geometries\u001b[1;34m(block)\u001b[0m\n\u001b[0;32m   1814\u001b[0m \u001b[38;5;28;01mdef\u001b[39;00m \u001b[38;5;21mmerge_geometries\u001b[39m(block):\n\u001b[1;32m-> 1815\u001b[0m     merged_geom \u001b[38;5;241m=\u001b[39m block\u001b[38;5;241m.\u001b[39munary_union\n\u001b[0;32m   1816\u001b[0m     \u001b[38;5;28;01mreturn\u001b[39;00m merged_geom\n",
      "File \u001b[1;32m~\\AppData\\Roaming\\Python\\Python311\\site-packages\\geopandas\\base.py:1219\u001b[0m, in \u001b[0;36mGeoPandasBase.unary_union\u001b[1;34m(self)\u001b[0m\n\u001b[0;32m   1200\u001b[0m \u001b[38;5;129m@property\u001b[39m\n\u001b[0;32m   1201\u001b[0m \u001b[38;5;28;01mdef\u001b[39;00m \u001b[38;5;21munary_union\u001b[39m(\u001b[38;5;28mself\u001b[39m):\n\u001b[0;32m   1202\u001b[0m \u001b[38;5;250m    \u001b[39m\u001b[38;5;124;03m\"\"\"Returns a geometry containing the union of all geometries in the\u001b[39;00m\n\u001b[0;32m   1203\u001b[0m \u001b[38;5;124;03m    ``GeoSeries``.\u001b[39;00m\n\u001b[0;32m   1204\u001b[0m \n\u001b[1;32m   (...)\u001b[0m\n\u001b[0;32m   1217\u001b[0m \u001b[38;5;124;03m    POLYGON ((0 1, 0 2, 2 2, 2 0, 1 0, 0 0, 0 1))\u001b[39;00m\n\u001b[0;32m   1218\u001b[0m \u001b[38;5;124;03m    \"\"\"\u001b[39;00m\n\u001b[1;32m-> 1219\u001b[0m     \u001b[38;5;28;01mreturn\u001b[39;00m \u001b[38;5;28mself\u001b[39m\u001b[38;5;241m.\u001b[39mgeometry\u001b[38;5;241m.\u001b[39mvalues\u001b[38;5;241m.\u001b[39munary_union()\n",
      "File \u001b[1;32m~\\AppData\\Roaming\\Python\\Python311\\site-packages\\geopandas\\array.py:743\u001b[0m, in \u001b[0;36mGeometryArray.unary_union\u001b[1;34m(self)\u001b[0m\n\u001b[0;32m    742\u001b[0m \u001b[38;5;28;01mdef\u001b[39;00m \u001b[38;5;21munary_union\u001b[39m(\u001b[38;5;28mself\u001b[39m):\n\u001b[1;32m--> 743\u001b[0m     \u001b[38;5;28;01mreturn\u001b[39;00m vectorized\u001b[38;5;241m.\u001b[39munary_union(\u001b[38;5;28mself\u001b[39m\u001b[38;5;241m.\u001b[39m_data)\n",
      "File \u001b[1;32m~\\AppData\\Roaming\\Python\\Python311\\site-packages\\geopandas\\_vectorized.py:1186\u001b[0m, in \u001b[0;36munary_union\u001b[1;34m(data)\u001b[0m\n\u001b[0;32m   1180\u001b[0m warning_msg \u001b[38;5;241m=\u001b[39m (\n\u001b[0;32m   1181\u001b[0m     \u001b[38;5;124m\"\u001b[39m\u001b[38;5;124m`unary_union` returned None due to all-None GeoSeries. In future, \u001b[39m\u001b[38;5;124m\"\u001b[39m\n\u001b[0;32m   1182\u001b[0m     \u001b[38;5;124m\"\u001b[39m\u001b[38;5;124m`unary_union` will return \u001b[39m\u001b[38;5;124m'\u001b[39m\u001b[38;5;124mGEOMETRYCOLLECTION EMPTY\u001b[39m\u001b[38;5;124m'\u001b[39m\u001b[38;5;124m instead.\u001b[39m\u001b[38;5;124m\"\u001b[39m\n\u001b[0;32m   1183\u001b[0m )\n\u001b[0;32m   1185\u001b[0m \u001b[38;5;28;01mif\u001b[39;00m compat\u001b[38;5;241m.\u001b[39mUSE_SHAPELY_20:\n\u001b[1;32m-> 1186\u001b[0m     data \u001b[38;5;241m=\u001b[39m shapely\u001b[38;5;241m.\u001b[39munion_all(data)\n\u001b[0;32m   1187\u001b[0m     \u001b[38;5;28;01mif\u001b[39;00m data \u001b[38;5;129;01mis\u001b[39;00m \u001b[38;5;28;01mNone\u001b[39;00m \u001b[38;5;129;01mor\u001b[39;00m data\u001b[38;5;241m.\u001b[39mis_empty:  \u001b[38;5;66;03m# shapely 2.0a1 and 2.0\u001b[39;00m\n\u001b[0;32m   1188\u001b[0m         warnings\u001b[38;5;241m.\u001b[39mwarn(\n\u001b[0;32m   1189\u001b[0m             warning_msg,\n\u001b[0;32m   1190\u001b[0m             \u001b[38;5;167;01mFutureWarning\u001b[39;00m,\n\u001b[0;32m   1191\u001b[0m             stacklevel\u001b[38;5;241m=\u001b[39m\u001b[38;5;241m4\u001b[39m,\n\u001b[0;32m   1192\u001b[0m         )\n",
      "File \u001b[1;32m~\\AppData\\Roaming\\Python\\Python311\\site-packages\\shapely\\decorators.py:77\u001b[0m, in \u001b[0;36mmultithreading_enabled.<locals>.wrapped\u001b[1;34m(*args, **kwargs)\u001b[0m\n\u001b[0;32m     75\u001b[0m     \u001b[38;5;28;01mfor\u001b[39;00m arr \u001b[38;5;129;01min\u001b[39;00m array_args:\n\u001b[0;32m     76\u001b[0m         arr\u001b[38;5;241m.\u001b[39mflags\u001b[38;5;241m.\u001b[39mwriteable \u001b[38;5;241m=\u001b[39m \u001b[38;5;28;01mFalse\u001b[39;00m\n\u001b[1;32m---> 77\u001b[0m     \u001b[38;5;28;01mreturn\u001b[39;00m func(\u001b[38;5;241m*\u001b[39margs, \u001b[38;5;241m*\u001b[39m\u001b[38;5;241m*\u001b[39mkwargs)\n\u001b[0;32m     78\u001b[0m \u001b[38;5;28;01mfinally\u001b[39;00m:\n\u001b[0;32m     79\u001b[0m     \u001b[38;5;28;01mfor\u001b[39;00m arr, old_flag \u001b[38;5;129;01min\u001b[39;00m \u001b[38;5;28mzip\u001b[39m(array_args, old_flags):\n",
      "File \u001b[1;32m~\\AppData\\Roaming\\Python\\Python311\\site-packages\\shapely\\set_operations.py:419\u001b[0m, in \u001b[0;36munion_all\u001b[1;34m(geometries, grid_size, axis, **kwargs)\u001b[0m\n\u001b[0;32m    415\u001b[0m         \u001b[38;5;28;01mraise\u001b[39;00m \u001b[38;5;167;01mValueError\u001b[39;00m(\u001b[38;5;124m\"\u001b[39m\u001b[38;5;124mgrid_size parameter only accepts scalar values\u001b[39m\u001b[38;5;124m\"\u001b[39m)\n\u001b[0;32m    417\u001b[0m     \u001b[38;5;28;01mreturn\u001b[39;00m lib\u001b[38;5;241m.\u001b[39munary_union_prec(collections, grid_size, \u001b[38;5;241m*\u001b[39m\u001b[38;5;241m*\u001b[39mkwargs)\n\u001b[1;32m--> 419\u001b[0m \u001b[38;5;28;01mreturn\u001b[39;00m lib\u001b[38;5;241m.\u001b[39munary_union(collections, \u001b[38;5;241m*\u001b[39m\u001b[38;5;241m*\u001b[39mkwargs)\n",
      "\u001b[1;31mGEOSException\u001b[0m: TopologyException: unable to assign free hole to a shell at -4.1706809997558594 40.5755615234375"
     ]
    }
   ],
   "source": [
    "#Importing Libraries\n",
    "import pandas as pd\n",
    "import numpy as np\n",
    "import json\n",
    "import folium\n",
    "from folium import GeoJson\n",
    "from folium.plugins import TimeSliderChoropleth\n",
    "from branca.colormap import linear\n",
    "\n",
    "df=pd.DataFrame({'year_mnth':[1999,2000,2001,2002,2004,2007],\n",
    "                'zipcode':[47010,47010,47010,28019,28019,28019],\n",
    "                'city':['Valladolid','Valladolid','Valladolid','Madrid','Madrid','Madrid']})\n",
    "\n",
    "# Cargar el archivo de datos geoespaciales (GeoJSON) para los países\n",
    "world_geojson_path = 'datos/gadm36_ESP_4.json'\n",
    "geo_df = gpd.read_file(world_geojson_path)\n",
    "\n",
    "#Creating Dataframe\n",
    "df_house_sold = df[['year_mnth', 'city']]\n",
    "df_house_sold = df_house_sold.groupby(['year_mnth', 'city'])[['city']].agg(house_sold = \n",
    "                                                                                 ('city', 'count')).reset_index()\n",
    "df_house_sold.rename(columns={'city': 'NAME_2'}, inplace=True)\n",
    "# df_house_sold = geo_df.merge(df_house_sold, on='NAME_2').drop(columns='NAME_2')\n",
    "df_house_sold = geo_df.merge(df_house_sold, on='NAME_2')\n",
    "# df_house_sold = df_house_sold.dissolve(by=['NAME_2', 'year_mnth'], aggfunc='sum').reset_index()\n",
    "df_house_sold = df_house_sold.dissolve(by=['NAME_2'], as_index=False)\n",
    "df_house_sold['datemodified'] = pd.to_datetime(df_house_sold['year_mnth'])\n",
    "\n",
    "#Creating Time Index for slider\n",
    "datetime_index = pd.DatetimeIndex(df_house_sold['datemodified'])\n",
    "dt_index_epochs = datetime_index.astype(int) // 10**9\n",
    "dt_index = dt_index_epochs.astype('U10')\n",
    "\n",
    "#Converting df into dict type\n",
    "styledata = {}\n",
    "n_periods = len(dt_index)\n",
    "n_sample = len(dt_index)\n",
    "record_index = 0\n",
    "\n",
    "for record in df_house_sold.index:\n",
    "    df_house_sold['geometry'].at[record] = df_house_sold['geometry'][record]\n",
    "    df = pd.DataFrame({\n",
    "        'color': df_house_sold.house_sold.to_numpy(),\n",
    "        'opacity': 0*np.random.normal(size= n_periods)},\n",
    "        index= dt_index)\n",
    "    df = df.cumsum()\n",
    "    df.sample(n_sample, replace=False).sort_index()\n",
    "    df.loc[df.index == dt_index[record_index], 'opacity'] = np.ones(len(df.index[\n",
    "        df.index == dt_index[record_index]]))\n",
    "    \n",
    "    styledata[record_index] = df\n",
    "    record_index += 1\n",
    "    \n",
    "#Converting values into color\n",
    "max_color, min_color = 0,0\n",
    "\n",
    "for datemodified, data in styledata.items():\n",
    "    max_color = max(max_color, data['color'].max())\n",
    "    min_color = max(min_color, data['color'].min())\n",
    "    \n",
    "cmap = linear.BuPu_06.scale(min_color, max_color)\n",
    "\n",
    "for city, data in styledata.items():\n",
    "    data['color'] = data['color'].apply(cmap)\n",
    "    data['opacity'] = (data['opacity'])\n",
    "    data['opacity'] = (data['opacity'])\n",
    "    \n",
    "#Converting into Timeslider dict type requirements\n",
    "styledict = {\n",
    "    str(record): data.sort_index().reset_index().to_dict(orient='index') for \n",
    "    record, data in styledata.items()\n",
    "}\n",
    "\n",
    "df_house_sold['datemodified'] = df_house_sold['datemodified'].astype('str')\n",
    "\n",
    "#Showing Map\n",
    "b = folium.Map(location=[df['lat'].median() - 0.2, #0.1,\n",
    "                         df['long'].median()+ 0.5], #0.8],\n",
    "#                zoom_start= 9,\n",
    "               zoom_start= 9,\n",
    "#                tiles=\"Cartodb Positron\",\n",
    "               width=\"%80\", height=\"%80\")\n",
    "slider = TimeSliderChoropleth(df_house_sold.to_json(), \n",
    "                              styledict = styledict, \n",
    "                              overlay = True).add_to(b)\n",
    "\n",
    "folium.Choropleth(\n",
    "    geo_data = df_house_sold.to_json(),\n",
    "    data = df_house_sold,\n",
    "    columns = ['datemodified', 'house_sold'],\n",
    "    key_on = 'feature.id',\n",
    "    highlight = True,\n",
    "    fill_color= 'BuPu',\n",
    "    fill_opacity=0,\n",
    "    line_opacity=0.0,\n",
    "    legend_name = 'Number of Houses',\n",
    "    ).add_to(b)\n",
    "\n",
    "b"
   ]
  },
  {
   "cell_type": "code",
   "execution_count": 21,
   "id": "a94f32e7",
   "metadata": {},
   "outputs": [
    {
     "data": {
      "text/plain": [
       "array(['_isDeleted', 'GID_0', 'NAME_0', 'GID_1', 'NAME_1', 'GID_2',\n",
       "       'NAME_2', 'GID_3', 'NAME_3', 'GID_4', 'NAME_4', 'VARNAME_4',\n",
       "       'TYPE_4', 'ENGTYPE_4', 'CC_4', 'geometry'], dtype=object)"
      ]
     },
     "execution_count": 21,
     "metadata": {},
     "output_type": "execute_result"
    }
   ],
   "source": [
    "geo_df.columns.values"
   ]
  },
  {
   "cell_type": "code",
   "execution_count": 22,
   "id": "f53558c2",
   "metadata": {},
   "outputs": [
    {
     "data": {
      "text/plain": [
       "_isDeleted                                                False\n",
       "GID_0                                                       ESP\n",
       "NAME_0                                                    Spain\n",
       "GID_1                                                   ESP.1_1\n",
       "NAME_1                                               AndalucÃ­a\n",
       "GID_2                                                 ESP.1.1_1\n",
       "NAME_2                                                 AlmerÃ­a\n",
       "GID_3                                               ESP.1.1.1_1\n",
       "NAME_3                                                n.a. (15)\n",
       "GID_4                                             ESP.1.1.1.2_1\n",
       "NAME_4                                                    Albox\n",
       "VARNAME_4                                                      \n",
       "TYPE_4                                             Municipality\n",
       "ENGTYPE_4                                          Municipality\n",
       "CC_4                                                           \n",
       "geometry      POLYGON ((-2.1835498809814453 37.3824157714843...\n",
       "Name: 1, dtype: object"
      ]
     },
     "execution_count": 22,
     "metadata": {},
     "output_type": "execute_result"
    }
   ],
   "source": [
    "geo_df.iloc[1]"
   ]
  },
  {
   "cell_type": "code",
   "execution_count": null,
   "id": "8cf0239b",
   "metadata": {},
   "outputs": [],
   "source": []
  }
 ],
 "metadata": {
  "kernelspec": {
   "display_name": "Entorno de Trabajo",
   "language": "python",
   "name": "entorno_trabajo"
  },
  "language_info": {
   "codemirror_mode": {
    "name": "ipython",
    "version": 3
   },
   "file_extension": ".py",
   "mimetype": "text/x-python",
   "name": "python",
   "nbconvert_exporter": "python",
   "pygments_lexer": "ipython3",
   "version": "3.11.5"
  }
 },
 "nbformat": 4,
 "nbformat_minor": 5
}
